{
 "cells": [
  {
   "cell_type": "markdown",
   "metadata": {},
   "source": [
    "# Path Planning Project\n",
    "## Problem Description\n",
    "\n",
    "In this project we are focusing on self driving car trajectory generation in the Udacity's self driving car simulator. Self driving car is driving on three lane highway in the simulator. The goal is to drive the car as smooth as possible while maintaining the maximal speed of 50 miles per hour. To do that without any accidents it is necessary to pass other cars and adopt speed when necessary. Other important concern is to change lanes or speed as smooth as possible, so that passengers do not feel unsafe or uncomfortable.\n",
    "\n",
    "## Model Description\n",
    "\n",
    "C++ model solves the described problem of path generation. The model receives input data from the Udacity's simulator with car coordinates, speed, direction and other cars. Based on this input and map information the model generates a path of 50 coordinates that it sends back to the simulator. Those coordinates represent path that the car will follow until next loop with new set of coordinates.\n",
    "\n",
    "## Map Information\n",
    "\n",
    "The CSV file highway_map.csv contains all the map information necessary. This information contains cartesian and freenet coordinates of the road. We can calculate coordinates of a specific lane by calcuating freenet d, for example 2+4*1 is freenet d for the middle lane."
   ]
  },
  {
   "cell_type": "raw",
   "metadata": {},
   "source": [
    "  // Waypoint map to read from\n",
    "  string map_file_ = \"../data/highway_map.csv\";\n",
    "  // The max s value before wrapping around the track back to 0\n",
    "  double max_s = 6945.554;\n",
    "  \n",
    "  // Parse input data.\n",
    "  ifstream in_map_(map_file_.c_str(), ifstream::in);\n",
    "\n",
    "  string line;\n",
    "  while (getline(in_map_, line)) {\n",
    "  \tistringstream iss(line);\n",
    "  \tdouble x;\n",
    "  \tdouble y;\n",
    "  \tfloat s;\n",
    "  \tfloat d_x;\n",
    "  \tfloat d_y;\n",
    "  \tiss >> x;\n",
    "  \tiss >> y;\n",
    "  \tiss >> s;\n",
    "  \tiss >> d_x;\n",
    "  \tiss >> d_y;\n",
    "  \tmap_waypoints_x.push_back(x);\n",
    "  \tmap_waypoints_y.push_back(y);\n",
    "  \tmap_waypoints_s.push_back(s);\n",
    "  \tmap_waypoints_dx.push_back(d_x);\n",
    "  \tmap_waypoints_dy.push_back(d_y);\n",
    "  }"
   ]
  },
  {
   "cell_type": "markdown",
   "metadata": {},
   "source": [
    "## Data Parsing\n",
    "\n",
    "The simulator sends JSON object containing car coordinates in freenet and cartesian system, car direction, speed, previous path that is not processed yet and information from other cars on the road (sensor fusion). Those coordinates are then being parsed in appropriate varaibles and arrays."
   ]
  },
  {
   "cell_type": "raw",
   "metadata": {},
   "source": [
    "double car_x = j[1][\"x\"];\n",
    "double car_y = j[1][\"y\"];\n",
    "double car_s = j[1][\"s\"];\n",
    "double car_d = j[1][\"d\"];\n",
    "double car_yaw = j[1][\"yaw\"];\n",
    "double car_speed = j[1][\"speed\"];\n",
    "\n",
    "// Previous path data given to the Planner\n",
    "auto previous_path_x = j[1][\"previous_path_x\"];\n",
    "auto previous_path_y = j[1][\"previous_path_y\"];\n",
    "// Previous path's end s and d values \n",
    "double end_path_s = j[1][\"end_path_s\"];\n",
    "double end_path_d = j[1][\"end_path_d\"];\n",
    "\n",
    "// Sensor Fusion Data, a list of all other cars on the same side of the road.\n",
    "vector<vector<double>> sensor_fusion = j[1][\"sensor_fusion\"];"
   ]
  },
  {
   "cell_type": "markdown",
   "metadata": {},
   "source": [
    "It is necessary to loop through all cars in sensor_fusion array to determine which cars are in our lane and take appropriate actions, slow down or switch lane if necessary.\n",
    "\n",
    "We will add some cars to cars_in_front and cars_in_range arrays as well, this arrays will later be used to determine optimal lane."
   ]
  },
  {
   "cell_type": "raw",
   "metadata": {},
   "source": [
    "for(int i = 0; i < sensor_fusion.size(); i++)\n",
    "{\n",
    "  double vx = sensor_fusion[i][3];\n",
    "  double vy = sensor_fusion[i][4];\n",
    "  double check_speed = sqrt(vx*vx+vy*vy);\n",
    "  double check_car_s = sensor_fusion[i][5];\n",
    "  float d = sensor_fusion[i][6];       \n",
    "  check_car_s += ((double)prev_size*.02*check_speed);\n",
    "\n",
    "  if(check_car_s > car_s ){\n",
    "    cars_in_front.push_back(sensor_fusion[i]);\n",
    "    //car is in my lane\n",
    "\n",
    "    if(d < (2+4*lane+2) && d > (2+4*lane-2)){\n",
    "        //check s values grater than mine and s gap\n",
    "        if((check_car_s-car_s) < 30) // If front car is in 30 m break and change lane.\n",
    "        {\n",
    "          too_close = true;\n",
    "          switch_lane = true;\n",
    "        }\n",
    "        if((check_car_s-car_s) < 5) // If front car is in 5 m break double.\n",
    "        {\n",
    "          way_too_close = true;\n",
    "        }\n",
    "        else if(check_car_s-car_s < 80 ) // If front car is in 80 m change lane if possible.\n",
    "        { \n",
    "          switch_lane = true;\n",
    "        }   \n",
    "      }\n",
    "\n",
    "  }\n",
    "\n",
    "  // Add cars in range for later colision avoidance detection.\n",
    "  vector<double> other_car_xy = getXY(check_car_s, d, map_waypoints_s, map_waypoints_x, map_waypoints_y);\n",
    "  if(distance(other_car_xy[0], other_car_xy[1], car_x, car_y) < 100) {\n",
    "    cars_in_range.push_back(sensor_fusion[i]);\n",
    "  }\n",
    "\n",
    "}"
   ]
  },
  {
   "cell_type": "markdown",
   "metadata": {},
   "source": [
    "## Speed Control\n",
    "\n",
    "Based on the too_close and way_too_close booleans set during sensor_control array loop we control the desired speed (ref_vel variable).\n",
    "\n",
    "Reference velocity - ref_vel is increased or decreased incrementally to avoid high jerk during acceleration or breaking."
   ]
  },
  {
   "cell_type": "raw",
   "metadata": {},
   "source": [
    "// Adopt velocity according to previously defined booleans.\n",
    "if(too_close)\n",
    "{\n",
    "  ref_vel -= .224;\n",
    "}\n",
    "else if(ref_vel < 49.5)\n",
    "{\n",
    "  ref_vel += .224;\n",
    "}\n",
    "if(way_too_close)\n",
    "{\n",
    "  ref_vel -= .5;\n",
    "}"
   ]
  },
  {
   "cell_type": "markdown",
   "metadata": {},
   "source": [
    "## Search of Optimal Lane\n",
    "\n",
    "If there is a slower vehicle in front of us it is desireable to switch to faster lane as well. This is why we set switch_lane boolean in case of slower car in front of us during sensor_fusion array loop.\n",
    "\n",
    "The model checks every 30 simulator iterations if the switch_lane boolean is active and searches optimal lane in case that it is."
   ]
  },
  {
   "cell_type": "raw",
   "metadata": {},
   "source": [
    "// Find optimal lane every 30 iterations.  \n",
    "if(switch_lane && iteration == 30) {\n",
    "  lane = ptg.Lane(lane, car_s, car_d, car_speed, cars_in_range, cars_in_front, (double)prev_size);\n",
    "}\n",
    "iteration++;\n",
    "if(iteration > 30) {iteration = 0;}"
   ]
  },
  {
   "cell_type": "markdown",
   "metadata": {},
   "source": [
    "### PTG.Lane cost function\n",
    "\n",
    "PTG.Lane cost function returns optimal lane and it is part of PTG class (PTG.cpp, PTG.h).\n",
    "\n",
    "The function first separates previosly collected cars_in_front and cars_in_range vectors. Each of the vecotrs is separated into three spearate vectors depending on the lane in which cars are in. As result we get 2 arrays: \n",
    "cars_in_lane_front[3] - Array used to determine fastest lane.\n",
    "cars_in_lane_range[3] - Array used to determine collision risk."
   ]
  },
  {
   "cell_type": "raw",
   "metadata": {},
   "source": [
    "  vector<vector<double>> cars_in_lane_front[3]; // Create array with three different vectors with cars in front depending on lane. \n",
    "  vector<vector<double>> cars_in_lane_range[3]; //Create array with three different vectors with cars in range depending on lane. \n",
    "  int optimal_lane = lane; // Current lane\n",
    "  double lowest_lane_cost = 9999;\n",
    "  \n",
    "  // Add cars_in_front cars in array depending on lane.\n",
    "  for(int i = 0; i < cars_in_front.size();i++)\n",
    "  { \n",
    "    float d = cars_in_front[i][6];\n",
    "    for(int j = 0; j < 3; j++){\n",
    "        if(d < (2+4*j+2) && d > (2+4*j-2))\n",
    "        {\n",
    "          cars_in_lane_front[j].push_back(cars_in_front[i]);\n",
    "        }\n",
    "      }\n",
    "  }\n",
    "  \n",
    "  // Add cars_in_range cars in array depending on lane.\n",
    "  for(int i = 0; i < cars_in_range.size();i++)\n",
    "  { \n",
    "    float d = cars_in_range[i][6];\n",
    "    for(int j = 0; j < 3; j++){\n",
    "        if(d < (2+4*j+2) && d > (2+4*j-2))\n",
    "        {\n",
    "          cars_in_lane_range[j].push_back(cars_in_range[i]);\n",
    "        }\n",
    "      }\n",
    "  }"
   ]
  },
  {
   "cell_type": "markdown",
   "metadata": {},
   "source": [
    "After previosuly described arrays have been extracted, we can start calculating cost of each lane to determine lane with lowest cost. \n",
    "\n",
    "This is done by looping through each lane and adding costs calculated by three cost functions described later.\n",
    "\n",
    "It is important to note that if we need to switch 2 lanes, for example from left lane to right lane, then we need to consider collision risk in the middle lane as well."
   ]
  },
  {
   "cell_type": "raw",
   "metadata": {},
   "source": [
    "  for(int i = 0; i < 3; i++)\n",
    "  {  \n",
    "    // Loop through all cars in front for each lane and add lane costs appropriately.\n",
    "    if(cars_in_lane_front[i].size()>0){\n",
    "      lane_cost[i] += slower_car_in_lane_cost(i,cars_in_lane_front[i],  car_s, prev_size);\n",
    "    } else lane_cost[i]=0;\n",
    "    \n",
    "    lane_cost[i] += lane_switching_cost(lane, i); // Add small cost for switching lanes.\n",
    "    \n",
    "    // Loop through all cars in range for each lane and add lane costs appropriately.\n",
    "    if(i!=lane){      \n",
    "      if(lane==0 && i == 2) { // If new lane is two lanes apart middle lane collision risk costs should be considered.\n",
    "        lane_cost[i]+=collision_cost(car_s, cars_in_lane_range[1], prev_size);\n",
    "      }\n",
    "      if(lane==2 && i == 0) { // If new lane is two lanes apart middle lane collision risk costs should be considered.\n",
    "        lane_cost[i]+=collision_cost(car_s, cars_in_lane_range[1], prev_size);\n",
    "      } \n",
    "      if(lane != i){\n",
    "        lane_cost[i]+=collision_cost(car_s, cars_in_lane_range[i], prev_size);\n",
    "      }\n",
    "    }\n",
    "\n",
    "  }"
   ]
  },
  {
   "cell_type": "markdown",
   "metadata": {},
   "source": [
    "### slower_car_in_lane_cost Function\n",
    "\n",
    "slower_car_in_lane_cost function runs for each lane to add higher cost to lanes with closer vehicles. Function predicts where vehicle from sensor_fusion array will be 0.2 seconds in future.\n",
    "\n",
    "If a vehicle is closer to the car more cost will be added. If vehicle does not exist, then cost will be 0."
   ]
  },
  {
   "cell_type": "raw",
   "metadata": {},
   "source": [
    "// Function that adds costs to the lane based on speed of cars in lane.\n",
    "double PTG::slower_car_in_lane_cost(int lane, vector<vector<double>> &cars_in_lane_front_i, double car_s, double prev_size) {\n",
    "  double cost = 0;\n",
    "  double cost_temp = 0;\n",
    "  \n",
    "  // Loop through cars in lane and add costs for lanes appropriately.\n",
    "  for(int i = 0; i < cars_in_lane_front_i.size();i++) {\n",
    "      double check_car_s = cars_in_lane_front_i[i][5]; \n",
    "      double vx = cars_in_lane_front_i[i][3];\n",
    "      double vy = cars_in_lane_front_i[i][4];\n",
    "      double check_speed = sqrt(vx*vx+vy*vy);\n",
    "      check_car_s += ((double)prev_size*.02*check_speed);\n",
    "      cost_temp = 500/(check_car_s-car_s);\n",
    "      \n",
    "      // Keep costs only for closest car in lane.\n",
    "      if(cost_temp > cost) { cost = cost_temp;}\n",
    "  }\n",
    "  return cost;\n",
    "}"
   ]
  },
  {
   "cell_type": "markdown",
   "metadata": {},
   "source": [
    "### collision_cost Function\n",
    "\n",
    "collision_cost function makes sure that we do not collide with some other vehicle during lane switch. If there is vehicle in lane where we plan to switch and there is collision risk with that vehicle (car_s is in range of check_car_s), very high cost will be added."
   ]
  },
  {
   "cell_type": "raw",
   "metadata": {},
   "source": [
    "// Function that adds costs to the lane based on collision risk.\n",
    "double PTG::collision_cost(int car_s, vector<vector<double>> &cars_in_lane_range_i, double prev_size)\n",
    "{\n",
    "  double cost = 0;\n",
    "  double cost_temp = 0;\n",
    "  // Loop through cars in lanes and add costs appropriately.\n",
    "  for(int i = 0; i < cars_in_lane_range_i.size();i++) {\n",
    "      double check_car_s = cars_in_lane_range_i[i][5]; \n",
    "      double vx = cars_in_lane_range_i[i][3];\n",
    "      double vy = cars_in_lane_range_i[i][4];\n",
    "      double check_speed = sqrt(vx*vx+vy*vy);\n",
    "      check_car_s += ((double)prev_size*.02*check_speed);\n",
    "    \n",
    "      // Add very high cost if collision risk exist.\n",
    "      if( ((check_car_s-car_s) > -15) && ((check_car_s-car_s)<15)) { cost = 10000;}\n",
    "  }\n",
    "  return cost;\n",
    "  \n",
    "}"
   ]
  },
  {
   "cell_type": "markdown",
   "metadata": {},
   "source": [
    "### lane_switching_cost Fuction\n",
    "\n",
    "lane_switching_cost function adds small cost for lane switch to avoid that car constantly switches lanes when costs of two lanes are basically the same."
   ]
  },
  {
   "cell_type": "raw",
   "metadata": {},
   "source": [
    "// Function to add cost in case of switching lanes. \n",
    "double PTG::lane_switching_cost(int current_lane, int new_lane)\n",
    "{\n",
    "  if(current_lane == new_lane) {return 0;} else return 5;\n",
    "}"
   ]
  },
  {
   "cell_type": "markdown",
   "metadata": {},
   "source": [
    "### Returning Optimal Lane\n",
    "\n",
    "At the end optimal lane with lowest cost will be returned. If we need to switch 2 lanes, for example from left lane to right lane, then the middle lane will be returned first. We do this to avoid high jerk due to switching two lanes at same time and because it is not usual and expected from other drivers that a car switches two lanes at once."
   ]
  },
  {
   "cell_type": "raw",
   "metadata": {},
   "source": [
    "for(int i = 0; i < 3; i++){  // Check which lane has the lowest point.\n",
    "  if(lane_cost[i]<lowest_lane_cost) {\n",
    "    optimal_lane = i;\n",
    "    lowest_lane_cost = lane_cost[i];\n",
    "  }\n",
    "  std::cout<<\"Lane cost: \"<<i<<\" - \" <<lane_cost[i] <<std::endl;\n",
    "\n",
    "}\n",
    "\n",
    "// If distance between current an optimal lane is more than one lane change first to the middle lane.\n",
    "if(lane==0 && optimal_lane == 2) {optimal_lane=1;} \n",
    "if(lane==2 && optimal_lane == 0) {optimal_lane=1;}\n",
    "\n",
    "return optimal_lane;"
   ]
  },
  {
   "cell_type": "markdown",
   "metadata": {},
   "source": [
    "## Path Generation\n",
    "\n",
    "After optimal lane has been choosen, it is necessary to generate path on which the car will drive. Final path will be sent as an array of x and y coordiates to the simulator.\n",
    "\n",
    "\n",
    "### Get Reference Cordinates\n",
    "\n",
    "First we need to get starting coordinates that we will use as reference points. We will add them to ptsx and ptsy vectors. If there are no previous coordinates returned from the simulator available, we will use car's current coordinates as a starting point. If there are at least two cordinates in previous_path vectors available, we will use them as a starting point and to calculate yaw rate.\n"
   ]
  },
  {
   "cell_type": "raw",
   "metadata": {
    "collapsed": true
   },
   "source": [
    "// Create a list of widely spaced (x,y) waypoints, evenly spacet at 30 m\n",
    "// Later we will interoplate these waypoints with a spline and fill it in with more points \n",
    "\n",
    "vector<double> ptsx;\n",
    "vector<double> ptsy;\n",
    "\n",
    "// reference x,y, yaw states\n",
    "// either we will reference the starting point as where the car is or at the previous paths end point\n",
    "double ref_x = car_x;\n",
    "double ref_y = car_y;\n",
    "double ref_yaw = deg2rad(car_yaw);\n",
    "\n",
    "// if previous size is almost empty, use the car as starting reference\n",
    "if(prev_size < 2)\n",
    "{\n",
    "  //Use two points that make the path tangent to the car\n",
    "  double prev_car_x = car_x - cos(car_yaw);\n",
    "  double prev_car_y = car_y - sin(car_yaw);\n",
    "\n",
    "  ptsx.push_back(prev_car_x);\n",
    "  ptsx.push_back(car_x);\n",
    "\n",
    "  ptsy.push_back(prev_car_y);\n",
    "  ptsy.push_back(car_y);\n",
    "}\n",
    "// use the previous path's end point as starting reference\n",
    "else\n",
    "{\n",
    "  // Redefine reference state as previous path end point\n",
    "  ref_x = previous_path_x[prev_size-1];\n",
    "  ref_y = previous_path_y[prev_size-1];\n",
    "\n",
    "  double ref_x_prev = previous_path_x[prev_size-2];\n",
    "  double ref_y_prev = previous_path_y[prev_size-2];\n",
    "  ref_yaw = atan2(ref_y-ref_y_prev,ref_x-ref_x_prev);\n",
    "\n",
    "  // Use two points that make the path tangent to the previous path's end point\n",
    "  ptsx.push_back(ref_x_prev);\n",
    "  ptsx.push_back(ref_x);\n",
    "\n",
    "  ptsy.push_back(ref_y_prev);\n",
    "  ptsy.push_back(ref_y);          \n",
    "\n",
    "}"
   ]
  },
  {
   "cell_type": "markdown",
   "metadata": {},
   "source": [
    "### Create List of Evenly Spaced Corrdinates\n",
    "\n",
    "To simplify the math we will calculate waypoints in freenet coordinate system, by adding 30 meters to the \"s\" axis. \"d\" axis is caluclated by multiplying current (optimal) lane with 4 and adding 2. For example \"d\" axis for the lane 0 (left) is 2+4*0 = 2. \n",
    "\n",
    "With help of the getXY function we get carthesian coordinates that can later be used by the simulator.  "
   ]
  },
  {
   "cell_type": "raw",
   "metadata": {},
   "source": [
    "// In Frenet add evenly 30m spaced points ahead of the starting reference\n",
    "\n",
    "vector<double> next_wp0 = getXY(car_s+30, (2+4*lane), map_waypoints_s, map_waypoints_x, map_waypoints_y);\n",
    "vector<double> next_wp1 = getXY(car_s+60, (2+4*lane), map_waypoints_s, map_waypoints_x, map_waypoints_y);\n",
    "vector<double> next_wp2 = getXY(car_s+90, (2+4*lane), map_waypoints_s, map_waypoints_x, map_waypoints_y);\n",
    "\n",
    "ptsx.push_back(next_wp0[0]);\n",
    "ptsx.push_back(next_wp1[0]);\n",
    "ptsx.push_back(next_wp2[0]);\n",
    "\n",
    "ptsy.push_back(next_wp0[1]);\n",
    "ptsy.push_back(next_wp1[1]);\n",
    "ptsy.push_back(next_wp2[1]);"
   ]
  },
  {
   "cell_type": "markdown",
   "metadata": {},
   "source": [
    "The last step before calculating the detailed path with spline is rotating carthesian coordinates that we have just calculated to car reference angle of 0 degrees. We do this to simlify the math."
   ]
  },
  {
   "cell_type": "raw",
   "metadata": {},
   "source": [
    "for (int i = 0; i < ptsx.size(); i++)\n",
    "{\n",
    "  //shift car reference ange to 0 degrees\n",
    "  double shift_x = ptsx[i]-ref_x;\n",
    "  double shift_y = ptsy[i]-ref_y;\n",
    "\n",
    "  ptsx[i] = (shift_x * cos(0-ref_yaw)-shift_y * sin(0-ref_yaw));\n",
    "  ptsy[i] = (shift_x * sin(0-ref_yaw)+shift_y * cos(0-ref_yaw));\n",
    "}"
   ]
  },
  {
   "cell_type": "markdown",
   "metadata": {},
   "source": [
    "### Spline function\n",
    "\n"
   ]
  },
  {
   "cell_type": "raw",
   "metadata": {},
   "source": [
    "// create a spline\n",
    "tk::spline s;\n",
    "\n",
    "// set (x,y) points to the spline\n",
    "s.set_points(ptsx, ptsy);\n",
    "\n",
    "// Define the actual (x,y) points we will use for the planner\n",
    "vector<double> next_x_vals;\n",
    "vector<double> next_y_vals;\n",
    "\n",
    "// Start with all of the previous path points from last time\n",
    "for(int i = 0; i < previous_path_x.size(); i++)\n",
    "{\n",
    "  next_x_vals.push_back(previous_path_x[i]);\n",
    "  next_y_vals.push_back(previous_path_y[i]);\n",
    "}\n",
    "\n",
    "// Calculate how to break up spline points so that we travel at our desired reference velocity\n",
    "double target_x = 30.0;\n",
    "double target_y = s(target_x);\n",
    "double target_dist = sqrt((target_x)*(target_x)+(target_y)*(target_y));\n",
    "\n",
    "double x_add_on = 0;\n",
    "\n",
    "// Fill up the rest of our path planner after filling it with previous points\n",
    "\n",
    "for (int i = 1; i<= 50 - previous_path_x.size(); i++) {\n",
    "\n",
    "  double N = (target_dist/(.02*ref_vel/2.24));\n",
    "  double x_point = x_add_on+(target_x)/N;\n",
    "  double y_point = s(x_point);\n",
    "\n",
    "  x_add_on = x_point;\n",
    "\n",
    "  double x_ref = x_point;\n",
    "  double y_ref = y_point;\n",
    "\n",
    "  // rotate back to normal after rotating it earlier\n",
    "  x_point = (x_ref * cos(ref_yaw) - y_ref * sin(ref_yaw));\n",
    "  y_point = (x_ref * sin(ref_yaw) + y_ref * cos(ref_yaw));\n",
    "\n",
    "  x_point += ref_x;\n",
    "  y_point += ref_y;\n",
    "\n",
    "  next_x_vals.push_back(x_point);\n",
    "  next_y_vals.push_back(y_point);\n",
    "}"
   ]
  },
  {
   "cell_type": "markdown",
   "metadata": {},
   "source": [
    "### Returning Data to the Simulator"
   ]
  },
  {
   "cell_type": "raw",
   "metadata": {},
   "source": [
    "json msgJson;\n",
    "\n",
    "// add new path points that will be send to the simulator.\n",
    "msgJson[\"next_x\"] = next_x_vals;\n",
    "msgJson[\"next_y\"] = next_y_vals;\n",
    "\n",
    "auto msg = \"42[\\\"control\\\",\"+ msgJson.dump()+\"]\";\n",
    "\n",
    "//this_thread::sleep_for(chrono::milliseconds(1000));\n",
    "ws.send(msg.data(), msg.length(), uWS::OpCode::TEXT);"
   ]
  },
  {
   "cell_type": "markdown",
   "metadata": {
    "collapsed": true
   },
   "source": [
    "## Conclusion"
   ]
  }
 ],
 "metadata": {
  "anaconda-cloud": {},
  "kernelspec": {
   "display_name": "Python [conda env:keras]",
   "language": "python",
   "name": "conda-env-keras-py"
  },
  "language_info": {
   "codemirror_mode": {
    "name": "ipython",
    "version": 3
   },
   "file_extension": ".py",
   "mimetype": "text/x-python",
   "name": "python",
   "nbconvert_exporter": "python",
   "pygments_lexer": "ipython3",
   "version": "3.5.2"
  }
 },
 "nbformat": 4,
 "nbformat_minor": 1
}
